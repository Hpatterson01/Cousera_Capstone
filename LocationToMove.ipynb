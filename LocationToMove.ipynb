{
  "nbformat": 4,
  "nbformat_minor": 0,
  "metadata": {
    "kernelspec": {
      "display_name": "Python 3",
      "language": "python",
      "name": "python3"
    },
    "language_info": {
      "codemirror_mode": {
        "name": "ipython",
        "version": 3
      },
      "file_extension": ".py",
      "mimetype": "text/x-python",
      "name": "python",
      "nbconvert_exporter": "python",
      "pygments_lexer": "ipython3",
      "version": "3.8.5"
    },
    "colab": {
      "name": "LocationToMove.ipynb",
      "provenance": [],
      "include_colab_link": true
    }
  },
  "cells": [
    {
      "cell_type": "markdown",
      "metadata": {
        "id": "view-in-github",
        "colab_type": "text"
      },
      "source": [
        "<a href=\"https://colab.research.google.com/github/Hpatterson01/Cousera_Capstone/blob/main/LocationToMove.ipynb\" target=\"_parent\"><img src=\"https://colab.research.google.com/assets/colab-badge.svg\" alt=\"Open In Colab\"/></a>"
      ]
    },
    {
      "cell_type": "markdown",
      "metadata": {
        "id": "ykR-R4DfJAAb"
      },
      "source": [
        "# PROMBLEM STATEMENT "
      ]
    },
    {
      "cell_type": "markdown",
      "metadata": {
        "id": "BhAi0DhcJAAg"
      },
      "source": [
        "Finding the best location to move on the other side of Toronto Canada. Using the different features available for new job offer "
      ]
    },
    {
      "cell_type": "markdown",
      "metadata": {
        "id": "3vivhDTMJAAh"
      },
      "source": [
        "# IMPORTING LIBRARIES "
      ]
    },
    {
      "cell_type": "code",
      "metadata": {
        "id": "XDQVFAFGJAAh"
      },
      "source": [
        "import pandas as pd\n",
        "import numpy as np"
      ],
      "execution_count": null,
      "outputs": []
    },
    {
      "cell_type": "code",
      "metadata": {
        "id": "KO2QB0pkJAAi",
        "outputId": "a563e67e-d849-4758-858a-6b444ba2a590"
      },
      "source": [
        "print('Hello Capsone Project Course')"
      ],
      "execution_count": null,
      "outputs": [
        {
          "output_type": "stream",
          "text": [
            "Hello Capsone Project Course\n"
          ],
          "name": "stdout"
        }
      ]
    },
    {
      "cell_type": "code",
      "metadata": {
        "id": "y1gxAocnJAAk"
      },
      "source": [
        ""
      ],
      "execution_count": null,
      "outputs": []
    }
  ]
}